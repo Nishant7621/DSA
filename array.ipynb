{
 "cells": [
  {
   "cell_type": "code",
   "execution_count": 1,
   "id": "e2790b10-845f-43b3-9af1-e625a6cf1ce0",
   "metadata": {},
   "outputs": [
    {
     "name": "stdout",
     "output_type": "stream",
     "text": [
      "[1, 2, 3, 4, 5]\n"
     ]
    }
   ],
   "source": [
    "arr = [1, 2, 2, 3, 4, 3, 5]\n",
    "unique_arr = []\n",
    "for item in arr:\n",
    "    if item not in unique_arr:\n",
    "        unique_arr.append(item)\n",
    "print(unique_arr)\n"
   ]
  },
  {
   "cell_type": "code",
   "execution_count": 2,
   "id": "3ae80e6d-cad3-400a-8fb5-1dfc65bbc618",
   "metadata": {},
   "outputs": [
    {
     "name": "stdout",
     "output_type": "stream",
     "text": [
      "1\n",
      "[2, 3, 4]\n",
      "5\n"
     ]
    }
   ],
   "source": [
    "import array\n",
    "\n",
    "arr = array.array('i', [1, 2, 3, 4, 5])\n",
    "a, *rest, e = arr\n",
    "print(a)     # 1\n",
    "print(rest)  # [2, 3, 4]\n",
    "print(e)     # 5"
   ]
  },
  {
   "cell_type": "markdown",
   "id": "66ba284f-5f91-42cc-b1bf-33e338808cbc",
   "metadata": {},
   "source": [
    "# list comprehension"
   ]
  },
  {
   "cell_type": "code",
   "execution_count": 3,
   "id": "e38949a0-9b27-47df-b93c-e6778f689f18",
   "metadata": {},
   "outputs": [
    {
     "name": "stdout",
     "output_type": "stream",
     "text": [
      "[0, 1, 2, 3, 4, 5, 6, 7]\n"
     ]
    }
   ],
   "source": [
    "list=[]\n",
    "for i in range(0,8):\n",
    "    list.append(i)\n",
    "print(list)"
   ]
  },
  {
   "cell_type": "code",
   "execution_count": 4,
   "id": "e9832ac1-7aca-4928-8703-df11118b428f",
   "metadata": {},
   "outputs": [
    {
     "name": "stdout",
     "output_type": "stream",
     "text": [
      "[1, 4, 9, 16, 25]\n"
     ]
    }
   ],
   "source": [
    "lst=[1,2,3,4,5]\n",
    "lst2=[]\n",
    "for i in lst:\n",
    "    lst2.append(i**2)\n",
    "print(lst2)"
   ]
  },
  {
   "cell_type": "code",
   "execution_count": 5,
   "id": "3403dc9b-e5f9-4817-a22f-0c28fd9854a9",
   "metadata": {},
   "outputs": [
    {
     "name": "stdout",
     "output_type": "stream",
     "text": [
      "[1, 4, 9, 16, 25]\n"
     ]
    }
   ],
   "source": [
    "num=[1,2,3,4,5]\n",
    "square_num=[i**2 for i in num]\n",
    "print(square_num)"
   ]
  },
  {
   "cell_type": "code",
   "execution_count": 10,
   "id": "2a691f13-9d7f-49c7-9d6b-e7825429edff",
   "metadata": {},
   "outputs": [
    {
     "name": "stdout",
     "output_type": "stream",
     "text": [
      "[2, 4, 6]\n"
     ]
    }
   ],
   "source": [
    "num=[1,2,3,4,5,6,7]\n",
    "filter_num=[n for n in num if n%2==0]\n",
    "print(filter_num)"
   ]
  },
  {
   "cell_type": "code",
   "execution_count": 11,
   "id": "59c5c3c1-0cea-4535-a21b-2eafa284078d",
   "metadata": {},
   "outputs": [],
   "source": [
    "#flattering a list of lists\n",
    "lists=[[1,2,3],[4,5,6],[7,8,9]]\n",
    "flattered_list=[item for sublist in lists for item in sublist]"
   ]
  },
  {
   "cell_type": "code",
   "execution_count": 12,
   "id": "d5cc0cc3-2ec2-4260-8061-d2e0a47e1a9d",
   "metadata": {},
   "outputs": [
    {
     "data": {
      "text/plain": [
       "[1, 2, 3, 4, 5, 6, 7, 8, 9]"
      ]
     },
     "execution_count": 12,
     "metadata": {},
     "output_type": "execute_result"
    }
   ],
   "source": [
    "flattered_list"
   ]
  },
  {
   "cell_type": "code",
   "execution_count": 14,
   "id": "fc26393f-e501-47eb-8b8c-4d08520488dd",
   "metadata": {},
   "outputs": [
    {
     "name": "stdout",
     "output_type": "stream",
     "text": [
      "['a', 'm', 'g', 'c']\n"
     ]
    }
   ],
   "source": [
    "# generating a list of first words of letter\n",
    "word=[\"apple\",\"mango\",\"guava\",\"cherry\"]\n",
    "first_letter=[words[0] for words in word]\n",
    "print(first_letter)"
   ]
  },
  {
   "cell_type": "code",
   "execution_count": 15,
   "id": "48daa57d-8049-421e-b8c3-712ff01c3358",
   "metadata": {},
   "outputs": [
    {
     "data": {
      "text/plain": [
       "[4, 16, 36, 64]"
      ]
     },
     "execution_count": 15,
     "metadata": {},
     "output_type": "execute_result"
    }
   ],
   "source": [
    "num=[1,2,3,4,5,6,7,8,9]\n",
    "[n**2 for n in num if n%2==0]"
   ]
  },
  {
   "cell_type": "code",
   "execution_count": 16,
   "id": "4ad041ae-6f85-457a-b009-17a846713290",
   "metadata": {},
   "outputs": [
    {
     "data": {
      "text/plain": [
       "[1, 2, 3, 4, 5]"
      ]
     },
     "execution_count": 16,
     "metadata": {},
     "output_type": "execute_result"
    }
   ],
   "source": [
    "# type casting\n",
    "string=[\"1\",\"2\",\"3\",\"4\",\"5\"]\n",
    "[int(s) for s in string]"
   ]
  },
  {
   "cell_type": "code",
   "execution_count": 18,
   "id": "c953c296-6135-4bde-876d-3fff550d3698",
   "metadata": {},
   "outputs": [
    {
     "data": {
      "text/plain": [
       "[1, 3, 5, 7, 9, 11, 13, 15, 17]"
      ]
     },
     "execution_count": 18,
     "metadata": {},
     "output_type": "execute_result"
    }
   ],
   "source": [
    "# generate a list of the fibonacci sequence using list comprehension\n",
    "fibo=[0,1,2,3,4,5,6,7,8,9,10]\n",
    "[fibo[i-1]+fibo[i-2] for i in range(2,len(fibo))]"
   ]
  },
  {
   "cell_type": "code",
   "execution_count": 19,
   "id": "35c2e3ea-35f4-4edc-b61c-e3934b8db61a",
   "metadata": {},
   "outputs": [
    {
     "data": {
      "text/plain": [
       "[1, 2, 3, 4, 6, 9, 12, 18, 36]"
      ]
     },
     "execution_count": 19,
     "metadata": {},
     "output_type": "execute_result"
    }
   ],
   "source": [
    "#generate a list of all the divisor of a number\n",
    "num=36\n",
    "[i for i in range(1,num+1) if num%i==0]"
   ]
  },
  {
   "cell_type": "code",
   "execution_count": null,
   "id": "9aebb430-2bf3-4362-b24e-15dcb2a241e0",
   "metadata": {},
   "outputs": [],
   "source": []
  }
 ],
 "metadata": {
  "kernelspec": {
   "display_name": "Python 3 (ipykernel)",
   "language": "python",
   "name": "python3"
  },
  "language_info": {
   "codemirror_mode": {
    "name": "ipython",
    "version": 3
   },
   "file_extension": ".py",
   "mimetype": "text/x-python",
   "name": "python",
   "nbconvert_exporter": "python",
   "pygments_lexer": "ipython3",
   "version": "3.13.3"
  }
 },
 "nbformat": 4,
 "nbformat_minor": 5
}
